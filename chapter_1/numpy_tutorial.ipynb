{
 "cells": [
  {
   "cell_type": "code",
   "execution_count": 1,
   "metadata": {
    "collapsed": true
   },
   "outputs": [],
   "source": [
    "import numpy as np\n",
    "import time"
   ]
  },
  {
   "cell_type": "code",
   "execution_count": 3,
   "metadata": {
    "collapsed": false
   },
   "outputs": [
    {
     "name": "stdout",
     "output_type": "stream",
     "text": [
      " time sum: 2.1142539978   time sum numpy: 0.0807049274445\n"
     ]
    }
   ],
   "source": [
    "#test speed\n",
    "def sum_trad():\n",
    "    start = time.time()\n",
    "    X = range(10000000)\n",
    "    Y = range(10000000)\n",
    "    Z = []\n",
    "    for i in range(len(X)):\n",
    "        Z.append(X[i] + Y[i])\n",
    "    return time.time() - start\n",
    "    \n",
    "def sum_numpy():\n",
    "    start = time.time()\n",
    "    X = np.arange(10000000) \n",
    "    Y = np.arange(10000000) \n",
    "    Z=X+Y\n",
    "    return time.time() - start\n",
    "\n",
    "print 'time sum:',sum_trad(),'  time sum numpy:',sum_numpy()"
   ]
  },
  {
   "cell_type": "code",
   "execution_count": 7,
   "metadata": {
    "collapsed": false
   },
   "outputs": [
    {
     "name": "stdout",
     "output_type": "stream",
     "text": [
      "[ 2.  6.  5.  9.]\n",
      "<type 'numpy.ndarray'>\n"
     ]
    }
   ],
   "source": [
    "#array creation\n",
    "arr = np.array([2, 6, 5, 9], float)\n",
    "print arr\n",
    "print type(arr)"
   ]
  },
  {
   "cell_type": "code",
   "execution_count": 5,
   "metadata": {
    "collapsed": false
   },
   "outputs": [
    {
     "data": {
      "text/plain": [
       "[1.0, 2.0, 3.0]"
      ]
     },
     "execution_count": 5,
     "metadata": {},
     "output_type": "execute_result"
    }
   ],
   "source": [
    "arr = np.array([1, 2, 3], float)\n",
    "print arr.tolist()\n",
    "print list(arr)"
   ]
  },
  {
   "cell_type": "code",
   "execution_count": 6,
   "metadata": {
    "collapsed": false
   },
   "outputs": [
    {
     "data": {
      "text/plain": [
       "array([ 1.,  2.,  3.])"
      ]
     },
     "execution_count": 6,
     "metadata": {},
     "output_type": "execute_result"
    }
   ],
   "source": [
    "arr = np.array([1, 2, 3], float)\n",
    "arr1 = arr\n",
    "arr2 = arr.copy()\n",
    "arr[0] = 0\n",
    "print arr\n",
    "print arr1\n",
    "print arr2"
   ]
  },
  {
   "cell_type": "code",
   "execution_count": 9,
   "metadata": {
    "collapsed": false
   },
   "outputs": [
    {
     "name": "stdout",
     "output_type": "stream",
     "text": [
      "[ 10.  20.  33.]\n",
      "[ 1.  1.  1.]\n"
     ]
    }
   ],
   "source": [
    "arr = np.array([10, 20, 33], float)\n",
    "print arr\n",
    "arr.fill(1)\n",
    "print arr"
   ]
  },
  {
   "cell_type": "code",
   "execution_count": 10,
   "metadata": {
    "collapsed": false
   },
   "outputs": [
    {
     "name": "stdout",
     "output_type": "stream",
     "text": [
      "[1 2 0]\n",
      "[ 0.26679111  0.38501227  2.38316066  0.02675034 -0.43446008]\n",
      "[ 0.80753324  0.55991096  0.48118454  0.2833164   0.03833485]\n"
     ]
    }
   ],
   "source": [
    "print np.random.permutation(3)\n",
    "print np.random.normal(0,1,5)\n",
    "print np.random.random(5)"
   ]
  },
  {
   "cell_type": "code",
   "execution_count": 11,
   "metadata": {
    "collapsed": false
   },
   "outputs": [
    {
     "name": "stdout",
     "output_type": "stream",
     "text": [
      "[[ 1.  0.  0.  0.  0.]\n",
      " [ 0.  1.  0.  0.  0.]\n",
      " [ 0.  0.  1.  0.  0.]\n",
      " [ 0.  0.  0.  1.  0.]\n",
      " [ 0.  0.  0.  0.  1.]]\n",
      "[[ 0.  1.  0.]\n",
      " [ 0.  0.  1.]\n",
      " [ 0.  0.  0.]]\n",
      "[[ 1.  1.  1.]\n",
      " [ 1.  1.  1.]]\n",
      "[0 0 0 0 0 0]\n",
      "[[ 0.  0.  0.]\n",
      " [ 0.  0.  0.]]\n",
      "[[ 1.  1.  1.]\n",
      " [ 1.  1.  1.]]\n",
      "[[1 3 2]\n",
      " [3 4 6]]\n",
      "[[ 0.60363091  0.30308355  0.61109112]\n",
      " [ 0.63595304  0.38100017  0.00487817]]\n",
      "[[  9.87749252  -0.38663954]\n",
      " [ 10.94265725  -0.91410028]\n",
      " [ 10.22591511   1.61752964]\n",
      " [  9.00656673   2.16278221]\n",
      " [  9.16733481  -3.7865277 ]]\n"
     ]
    }
   ],
   "source": [
    "print np.identity(5, dtype=float)\n",
    "print np.eye(3, k=1, dtype=float)\n",
    "\n",
    "print np.ones((2,3), dtype=float)\n",
    "print np.zeros(6, dtype=int)\n",
    "arr = np.array([[13, 32, 31], [64, 25, 76]], float)\n",
    "print np.zeros_like(arr)\n",
    "print np.ones_like(arr)\n",
    "arr1 = np.array([1,3,2])\n",
    "arr2 = np.array([3,4,6])\n",
    "print np.vstack([arr1,arr2])\n",
    "print np.random.rand(2,3)\n",
    "print np.random.multivariate_normal([10, 0], [[3, 1], [1, 4]], size=[5,])"
   ]
  },
  {
   "cell_type": "code",
   "execution_count": 12,
   "metadata": {
    "collapsed": false
   },
   "outputs": [
    {
     "name": "stdout",
     "output_type": "stream",
     "text": [
      "[ 2.  6.  5.]\n",
      "5.0\n",
      "[ 5.  6.  5.  5.]\n"
     ]
    }
   ],
   "source": [
    "#array manipulations\n",
    "arr = np.array([2., 6., 5., 5.])\n",
    "print arr[:3]\n",
    "print arr[3]\n",
    "arr[0] = 5.\n",
    "print arr"
   ]
  },
  {
   "cell_type": "code",
   "execution_count": 14,
   "metadata": {
    "collapsed": false
   },
   "outputs": [
    {
     "name": "stdout",
     "output_type": "stream",
     "text": [
      "[ 5.  6.]\n",
      "[ 5.  5.  5.  6.]\n",
      "[0 1 3 2]\n",
      "[ 6.  5.  5.  5.]\n",
      "False\n"
     ]
    }
   ],
   "source": [
    "print np.unique(arr)\n",
    "print np.sort(arr)\n",
    "print np.argsort(arr)\n",
    "np.random.shuffle(arr)\n",
    "print arr\n",
    "print np.array_equal(arr,np.array([1,3,2]))"
   ]
  },
  {
   "cell_type": "code",
   "execution_count": 16,
   "metadata": {
    "collapsed": false
   },
   "outputs": [
    {
     "name": "stdout",
     "output_type": "stream",
     "text": [
      "[[ 4.  5.  6.]\n",
      " [ 2.  3.  6.]]\n",
      "4.0 -- 6.0\n",
      "[[ 6.]]\n",
      "[ 2.  3.  6.]\n",
      "[ 6.  6.]\n",
      "[[ 3.  6.]]\n",
      "[[ 10.  29.  23.]\n",
      " [ 24.  25.  46.]]\n",
      "[ 10.  29.  23.  24.  25.  46.]\n",
      "(2, 3)\n",
      "float64\n",
      "[[4 5 6]\n",
      " [2 3 6]]\n"
     ]
    }
   ],
   "source": [
    "matrix = np.array([[ 4., 5., 6.], [2, 3, 6]], float)\n",
    "print matrix\n",
    "print matrix[0,0],'--',matrix[0,2]\n",
    "arr = np.array([[ 4., 5., 6.], [ 2., 3., 6.]], float)\n",
    "print arr[1:2,2:3]\n",
    "print arr[1,:]\n",
    "print arr[:,2]\n",
    "print arr[-1:,-2:]\n",
    "arr = np.array([[10, 29, 23], [24, 25, 46]], float)\n",
    "print arr\n",
    "print arr.flatten()\n",
    "print arr.shape\n",
    "print arr.dtype\n",
    "int_arr = matrix.astype(np.int32)\n",
    "print int_arr"
   ]
  },
  {
   "cell_type": "code",
   "execution_count": 17,
   "metadata": {
    "collapsed": false
   },
   "outputs": [
    {
     "name": "stdout",
     "output_type": "stream",
     "text": [
      "2\n",
      "True\n",
      "False\n"
     ]
    }
   ],
   "source": [
    "arr = np.array([[ 4., 5., 6.], [ 2., 3., 6.]], float)\n",
    "print len(arr)\n",
    "arr = np.array([[ 4., 5., 6.], [ 2., 3., 6.]], float)\n",
    "print 2 in arr\n",
    "print 0 in arr"
   ]
  },
  {
   "cell_type": "code",
   "execution_count": 18,
   "metadata": {
    "collapsed": false
   },
   "outputs": [
    {
     "name": "stdout",
     "output_type": "stream",
     "text": [
      "[ 0.  1.  2.  3.  4.  5.  6.  7.]\n",
      "[[ 0.  1.]\n",
      " [ 2.  3.]\n",
      " [ 4.  5.]\n",
      " [ 6.  7.]]\n",
      "(4, 2)\n"
     ]
    }
   ],
   "source": [
    "arr = np.array(range(8), float)\n",
    "print arr\n",
    "arr = arr.reshape((4,2))\n",
    "print arr\n",
    "print arr.shape"
   ]
  },
  {
   "cell_type": "code",
   "execution_count": 20,
   "metadata": {
    "collapsed": false
   },
   "outputs": [
    {
     "name": "stdout",
     "output_type": "stream",
     "text": [
      "[[ 0.  1.  2.]\n",
      " [ 3.  4.  5.]]\n",
      "[[ 0.  3.]\n",
      " [ 1.  4.]\n",
      " [ 2.  5.]]\n"
     ]
    }
   ],
   "source": [
    "arr = np.array(range(6), float).reshape((2, 3))\n",
    "print arr\n",
    "print arr.transpose()"
   ]
  },
  {
   "cell_type": "code",
   "execution_count": 21,
   "metadata": {
    "collapsed": false
   },
   "outputs": [
    {
     "name": "stdout",
     "output_type": "stream",
     "text": [
      "[[ 0  1  2  3  4]\n",
      " [ 5  6  7  8  9]\n",
      " [10 11 12 13 14]]\n",
      "[[ 0  5 10]\n",
      " [ 1  6 11]\n",
      " [ 2  7 12]\n",
      " [ 3  8 13]\n",
      " [ 4  9 14]]\n"
     ]
    }
   ],
   "source": [
    "matrix = np.arange(15).reshape((3, 5))\n",
    "print matrix\n",
    "print matrix.T"
   ]
  },
  {
   "cell_type": "code",
   "execution_count": 22,
   "metadata": {
    "collapsed": false
   },
   "outputs": [
    {
     "name": "stdout",
     "output_type": "stream",
     "text": [
      "[ 14.  32.  13.]\n",
      "[[ 14.]\n",
      " [ 32.]\n",
      " [ 13.]]\n",
      "(3, 1)\n",
      "[[ 14.  32.  13.]]\n",
      "(1, 3)\n"
     ]
    }
   ],
   "source": [
    "arr = np.array([14, 32, 13], float)\n",
    "print arr\n",
    "print arr[:,np.newaxis]\n",
    "print arr[:,np.newaxis].shape\n",
    "print arr[np.newaxis,:]\n",
    "print arr[np.newaxis,:].shape"
   ]
  },
  {
   "cell_type": "code",
   "execution_count": 24,
   "metadata": {
    "collapsed": false
   },
   "outputs": [
    {
     "name": "stdout",
     "output_type": "stream",
     "text": [
      "[ 10.  22.  31.  43.  54.  61.  71.  82.  29.]\n",
      "[[ 11.  12.]\n",
      " [ 32.  42.]\n",
      " [ 54.  26.]\n",
      " [ 27.  28.]]\n",
      "[[ 11.  12.]\n",
      " [ 32.  42.]\n",
      " [ 54.  26.]\n",
      " [ 27.  28.]]\n",
      "[[ 11.  12.  54.  26.]\n",
      " [ 32.  42.  27.  28.]]\n"
     ]
    }
   ],
   "source": [
    "arr1 = np.array([10,22], float)\n",
    "arr2 = np.array([31,43,54,61], float)\n",
    "arr3 = np.array([71,82,29], float)\n",
    "print np.concatenate((arr1, arr2, arr3))\n",
    "arr1 = np.array([[11, 12], [32, 42]], float)\n",
    "arr2 = np.array([[54, 26], [27,28]], float)\n",
    "print np.concatenate((arr1,arr2))\n",
    "print np.concatenate((arr1,arr2), axis=0)\n",
    "print np.concatenate((arr1,arr2), axis=1)"
   ]
  },
  {
   "cell_type": "code",
   "execution_count": 27,
   "metadata": {
    "collapsed": false
   },
   "outputs": [
    {
     "name": "stdout",
     "output_type": "stream",
     "text": [
      "\u0000\u0000\u0000\u0000\u0000\u0000$@\u0000\u0000\u0000\u0000\u0000\u00004@\u0000\u0000\u0000\u0000\u0000\u0000>@\n",
      "[ 10.  20.  30.]\n"
     ]
    }
   ],
   "source": [
    "arr = np.array([10, 20, 30], float)\n",
    "str = arr.tostring()\n",
    "print str\n",
    "print np.fromstring(str)"
   ]
  },
  {
   "cell_type": "code",
   "execution_count": 29,
   "metadata": {
    "collapsed": false
   },
   "outputs": [
    {
     "name": "stdout",
     "output_type": "stream",
     "text": [
      "[ 2.  4.  6.]\n",
      "[ 0.  0.  0.]\n",
      "[ 1.  4.  9.]\n",
      "[ 1.  1.  1.]\n",
      "[ 0.  0.  0.]\n",
      "[  1.   4.  27.]\n"
     ]
    }
   ],
   "source": [
    "#array operations\n",
    "arr1 = np.array([1,2,3], float)\n",
    "arr2 = np.array([1,2,3], float)\n",
    "print arr1+arr2\n",
    "print arr1-arr2\n",
    "print arr1 * arr2\n",
    "print arr2 / arr1\n",
    "print arr1 % arr2\n",
    "print arr2**arr1"
   ]
  },
  {
   "cell_type": "code",
   "execution_count": 30,
   "metadata": {
    "collapsed": false
   },
   "outputs": [
    {
     "ename": "ValueError",
     "evalue": "operands could not be broadcast together with shapes (3,) (2,) ",
     "output_type": "error",
     "traceback": [
      "\u001b[0;31m---------------------------------------------------------------------------\u001b[0m",
      "\u001b[0;31mValueError\u001b[0m                                Traceback (most recent call last)",
      "\u001b[0;32m<ipython-input-30-e583578b13eb>\u001b[0m in \u001b[0;36m<module>\u001b[0;34m()\u001b[0m\n\u001b[1;32m      1\u001b[0m \u001b[0marr1\u001b[0m \u001b[0;34m=\u001b[0m \u001b[0mnp\u001b[0m\u001b[0;34m.\u001b[0m\u001b[0marray\u001b[0m\u001b[0;34m(\u001b[0m\u001b[0;34m[\u001b[0m\u001b[0;36m1\u001b[0m\u001b[0;34m,\u001b[0m\u001b[0;36m2\u001b[0m\u001b[0;34m,\u001b[0m\u001b[0;36m3\u001b[0m\u001b[0;34m]\u001b[0m\u001b[0;34m,\u001b[0m \u001b[0mfloat\u001b[0m\u001b[0;34m)\u001b[0m\u001b[0;34m\u001b[0m\u001b[0m\n\u001b[1;32m      2\u001b[0m \u001b[0marr2\u001b[0m \u001b[0;34m=\u001b[0m \u001b[0mnp\u001b[0m\u001b[0;34m.\u001b[0m\u001b[0marray\u001b[0m\u001b[0;34m(\u001b[0m\u001b[0;34m[\u001b[0m\u001b[0;36m1\u001b[0m\u001b[0;34m,\u001b[0m\u001b[0;36m2\u001b[0m\u001b[0;34m]\u001b[0m\u001b[0;34m,\u001b[0m \u001b[0mfloat\u001b[0m\u001b[0;34m)\u001b[0m\u001b[0;34m\u001b[0m\u001b[0m\n\u001b[0;32m----> 3\u001b[0;31m \u001b[0;32mprint\u001b[0m \u001b[0marr1\u001b[0m \u001b[0;34m+\u001b[0m \u001b[0marr2\u001b[0m\u001b[0;34m\u001b[0m\u001b[0m\n\u001b[0m",
      "\u001b[0;31mValueError\u001b[0m: operands could not be broadcast together with shapes (3,) (2,) "
     ]
    }
   ],
   "source": [
    "arr1 = np.array([1,2,3], float)\n",
    "arr2 = np.array([1,2], float)\n",
    "print arr1 + arr2"
   ]
  },
  {
   "cell_type": "code",
   "execution_count": 32,
   "metadata": {
    "collapsed": false
   },
   "outputs": [
    {
     "name": "stdout",
     "output_type": "stream",
     "text": [
      "[[ 1.  2.]\n",
      " [ 3.  4.]\n",
      " [ 5.  6.]]\n",
      "[ 1.  2.]\n",
      "[[ 2.  4.]\n",
      " [ 4.  6.]\n",
      " [ 6.  8.]]\n"
     ]
    }
   ],
   "source": [
    "arr1 = np.array([[1, 2], [3, 4], [5, 6]], float)\n",
    "arr2 = np.array([1, 2], float)\n",
    "print arr1\n",
    "print arr2\n",
    "print arr1 + arr2\n",
    "arr1 = np.zeros((2,2), float)"
   ]
  },
  {
   "cell_type": "code",
   "execution_count": 34,
   "metadata": {
    "collapsed": false
   },
   "outputs": [
    {
     "name": "stdout",
     "output_type": "stream",
     "text": [
      "[[ 0.  0.]\n",
      " [ 0.  0.]]\n",
      "[ 1.  2.]\n",
      "[[ 1.  2.]\n",
      " [ 1.  2.]]\n",
      "[[ 1.  2.]\n",
      " [ 1.  2.]]\n",
      "[[ 1.  1.]\n",
      " [ 2.  2.]]\n"
     ]
    }
   ],
   "source": [
    "arr1 = np.zeros((2,2), float)\n",
    "arr2 = np.array([1., 2.], float)\n",
    "print arr1\n",
    "print arr2\n",
    "print arr1+arr2\n",
    "print arr1 + arr2[np.newaxis,:]\n",
    "print arr1 + arr2[:,np.newaxis]"
   ]
  },
  {
   "cell_type": "code",
   "execution_count": 35,
   "metadata": {
    "collapsed": false
   },
   "outputs": [
    {
     "name": "stdout",
     "output_type": "stream",
     "text": [
      "[[False False]\n",
      " [False  True]]\n",
      "[ 9.]\n",
      "[[ 1.  2.]\n",
      " [ 5.  9.]]\n"
     ]
    }
   ],
   "source": [
    "arr = np.array([[1, 2], [5, 9]], float)\n",
    "print arr >= 7\n",
    "print arr[arr >= 7]\n",
    "arr[np.logical_and(arr > 5, arr < 11)]\n",
    "print arr"
   ]
  },
  {
   "cell_type": "code",
   "execution_count": 36,
   "metadata": {
    "collapsed": false
   },
   "outputs": [
    {
     "name": "stdout",
     "output_type": "stream",
     "text": [
      "[ 1.  4.  4.  9.  4.  4.  4.]\n",
      "[ 1.  4.  4.  9.  4.]\n"
     ]
    }
   ],
   "source": [
    "arr1 = np.array([1, 4, 5, 9], float)\n",
    "arr2 = np.array([0, 1, 1, 3, 1, 1, 1], int)\n",
    "print arr1[arr2]\n",
    "arr = np.array([1, 4, 5, 9], float)\n",
    "print arr[[0, 1, 1, 3, 1]]"
   ]
  },
  {
   "cell_type": "code",
   "execution_count": 37,
   "metadata": {
    "collapsed": false
   },
   "outputs": [
    {
     "name": "stdout",
     "output_type": "stream",
     "text": [
      "[ 13.   2.   1.  13.]\n",
      "[ 6.  7.  6.  9.  9.  6.]\n",
      "[[ 10.  21.]\n",
      " [ 10.  21.]\n",
      " [ 62.  33.]]\n",
      "[[ 10.  10.  21.]\n",
      " [ 62.  62.  33.]]\n",
      "[  2.   3.   6.   2.  10.   9.]\n"
     ]
    }
   ],
   "source": [
    "arr1 = np.array([[1, 2], [5, 13]], float)\n",
    "arr2 = np.array([1, 0, 0, 1], int)\n",
    "arr3 = np.array([1, 1, 0, 1], int)\n",
    "print arr1[arr2,arr3]\n",
    "arr1 = np.array([7, 6, 6, 9], float)\n",
    "arr2 = np.array([1, 0, 1, 3, 3, 1], int)\n",
    "print arr1.take(arr2)\n",
    "arr1 = np.array([[10, 21], [62, 33]], float)\n",
    "arr2 = np.array([0, 0, 1], int)\n",
    "print arr1.take(arr2, axis=0)\n",
    "print arr1.take(arr2, axis=1)\n",
    "arr1 = np.array([2, 1, 6, 2, 1, 9], float)\n",
    "arr2 = np.array([3, 10, 2], float)\n",
    "arr1.put([1, 4], arr2)\n",
    "print arr1"
   ]
  },
  {
   "cell_type": "code",
   "execution_count": 38,
   "metadata": {
    "collapsed": false
   },
   "outputs": [
    {
     "name": "stdout",
     "output_type": "stream",
     "text": [
      "[[ 275.  660.]\n",
      " [ 299.  462.]]\n"
     ]
    }
   ],
   "source": [
    "arr1 = np.array([[11,22], [23,14]], float)\n",
    "arr2 = np.array([[25,30], [13,33]], float)\n",
    "print arr1*arr2"
   ]
  },
  {
   "cell_type": "code",
   "execution_count": 39,
   "metadata": {
    "collapsed": false
   },
   "outputs": [
    {
     "name": "stdout",
     "output_type": "stream",
     "text": [
      "[[ 0  1  2  3  4]\n",
      " [ 5  6  7  8  9]\n",
      " [10 11 12 13 14]]\n",
      "[[ 0  5 10]\n",
      " [ 1  6 11]\n",
      " [ 2  7 12]\n",
      " [ 3  8 13]\n",
      " [ 4  9 14]]\n",
      "[[125 140 155 170 185]\n",
      " [140 158 176 194 212]\n",
      " [155 176 197 218 239]\n",
      " [170 194 218 242 266]\n",
      " [185 212 239 266 293]]\n"
     ]
    }
   ],
   "source": [
    "#linear algebra operations\n",
    "X = np.arange(15).reshape((3, 5))\n",
    "print X\n",
    "print X.T\n",
    "print np.dot(X .T, X)#X^T X"
   ]
  },
  {
   "cell_type": "code",
   "execution_count": 40,
   "metadata": {
    "collapsed": false
   },
   "outputs": [
    {
     "name": "stdout",
     "output_type": "stream",
     "text": [
      "[[  252.   504.   168.]\n",
      " [  903.  1806.   602.]\n",
      " [  210.   420.   140.]]\n",
      "2198.0\n",
      "[ 182.   42. -399.]\n"
     ]
    }
   ],
   "source": [
    "arr1 = np.array([12, 43, 10], float)\n",
    "arr2 = np.array([21, 42, 14], float)\n",
    "print np.outer(arr1, arr2)\n",
    "print np.inner(arr1, arr2)\n",
    "print np.cross(arr1, arr2)"
   ]
  },
  {
   "cell_type": "code",
   "execution_count": 41,
   "metadata": {
    "collapsed": false
   },
   "outputs": [
    {
     "name": "stdout",
     "output_type": "stream",
     "text": [
      "[[ 74.  22.  10.]\n",
      " [ 92.  31.  17.]\n",
      " [ 21.  22.  12.]]\n",
      "-2852.0\n",
      "[[ 0.00070126  0.01542777 -0.02244039]\n",
      " [ 0.26192146 -0.23772791  0.11851332]\n",
      " [-0.48141655  0.4088359  -0.09467041]]\n",
      "[[  1.00000000e+00   0.00000000e+00  -5.55111512e-17]\n",
      " [  1.52655666e-16   1.00000000e+00  -2.22044605e-16]\n",
      " [  3.10862447e-15   8.88178420e-16   1.00000000e+00]]\n",
      "[ 107.99587441   11.33411853   -2.32999294]\n",
      "[[-0.57891525 -0.21517959  0.06319955]\n",
      " [-0.75804695  0.17632618 -0.58635713]\n",
      " [-0.30036971  0.96052424  0.80758352]]\n"
     ]
    }
   ],
   "source": [
    "matrix = np.array([[74, 22, 10], [92, 31, 17], [21, 22, 12]], float)\n",
    "print matrix\n",
    "print np.linalg.det(matrix)\n",
    "inv_matrix = np.linalg.inv(matrix)\n",
    "print inv_matrix\n",
    "print np.dot(inv_matrix,matrix)\n",
    "vals, vecs = np.linalg.eig(matrix)\n",
    "print vals\n",
    "print vecs"
   ]
  },
  {
   "cell_type": "code",
   "execution_count": null,
   "metadata": {
    "collapsed": true
   },
   "outputs": [],
   "source": [
    "#Statistics and mathematical functions\n",
    "arr = np.random.rand(8, 4)\n",
    "print arr.mean()\n",
    "print np.mean(arr)\n",
    "print arr.sum()"
   ]
  }
 ],
 "metadata": {
  "kernelspec": {
   "display_name": "Python 2",
   "language": "python",
   "name": "python2"
  },
  "language_info": {
   "codemirror_mode": {
    "name": "ipython",
    "version": 2
   },
   "file_extension": ".py",
   "mimetype": "text/x-python",
   "name": "python",
   "nbconvert_exporter": "python",
   "pygments_lexer": "ipython2",
   "version": "2.7.11"
  }
 },
 "nbformat": 4,
 "nbformat_minor": 0
}
